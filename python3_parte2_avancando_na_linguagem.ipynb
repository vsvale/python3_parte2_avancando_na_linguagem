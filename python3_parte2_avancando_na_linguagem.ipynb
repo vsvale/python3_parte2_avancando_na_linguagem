{
 "cells": [
  {
   "cell_type": "code",
   "execution_count": 31,
   "metadata": {},
   "outputs": [],
   "source": [
    "%%capture\n",
    "!pip intall wget"
   ]
  },
  {
   "cell_type": "code",
   "execution_count": 32,
   "metadata": {},
   "outputs": [],
   "source": [
    "import wget\n",
    "from os.path import exists\n",
    "import os\n",
    "import pandas as pd\n",
    "import random\n",
    "import re\n",
    "from IPython.display import display, Image\n",
    "from IPython.display import clear_output\n",
    "import time"
   ]
  },
  {
   "cell_type": "markdown",
   "metadata": {},
   "source": [
    "#### Forca"
   ]
  },
  {
   "cell_type": "code",
   "execution_count": 33,
   "metadata": {},
   "outputs": [],
   "source": [
    "def bem_vindo():\n",
    "    print('********************************')\n",
    "    print('***Bem vindo ao jogo da Forca***')\n",
    "    print('********************************')"
   ]
  },
  {
   "cell_type": "code",
   "execution_count": 34,
   "metadata": {},
   "outputs": [],
   "source": [
    "def download_palavras():\n",
    "    if not exists('./br-sem-acentos.txt'):\n",
    "        wget.download('https://raw.githubusercontent.com/vsvale/python3_parte2_avancando_na_linguagem/main/br-sem-acentos.txt','.')"
   ]
  },
  {
   "cell_type": "code",
   "execution_count": 35,
   "metadata": {},
   "outputs": [],
   "source": [
    "def download_imagens():\n",
    "    if not exists('./img'):\n",
    "        os.mkdir('./img')\n",
    "        for i in range(11):\n",
    "            wget.download('https://raw.githubusercontent.com/vsvale/python3_parte2_avancando_na_linguagem/main/img/hang_{}.png'.format(i),'./img')"
   ]
  },
  {
   "cell_type": "code",
   "execution_count": 36,
   "metadata": {},
   "outputs": [],
   "source": [
    "def palavra():\n",
    "    download_palavras()\n",
    "    words = pd.read_csv('br-sem-acentos.txt',header=None)\n",
    "    words = words.rename(columns = {0:'words'})\n",
    "    words = words.where(words['words'].str.len()> 2)\n",
    "    words = words.dropna()\n",
    "    words = words.values.tolist()\n",
    "    palavra_secreta = random.choice(words)[0].lower()\n",
    "    return palavra_secreta"
   ]
  },
  {
   "cell_type": "code",
   "execution_count": 37,
   "metadata": {},
   "outputs": [],
   "source": [
    "def anonimizar(palavra):\n",
    "    return len(palavra) * '-'"
   ]
  },
  {
   "cell_type": "code",
   "execution_count": 38,
   "metadata": {},
   "outputs": [],
   "source": [
    "def capturar_try():\n",
    "    player_try = input('Escolha uma letra: ')\n",
    "    player_try = player_try.lower().strip()\n",
    "    return player_try"
   ]
  },
  {
   "cell_type": "code",
   "execution_count": 39,
   "metadata": {},
   "outputs": [],
   "source": [
    "def desanonimizar_letra(player_try,letra_in,secret):\n",
    "    return ''.join([player_try if i in letra_in else a for i, a in enumerate(secret)])"
   ]
  },
  {
   "cell_type": "code",
   "execution_count": 40,
   "metadata": {},
   "outputs": [],
   "source": [
    "def posicao_letra(player_try,palavra_secreta):\n",
    "    return [m.start() for m in re.finditer(player_try, palavra_secreta)]"
   ]
  },
  {
   "cell_type": "code",
   "execution_count": 41,
   "metadata": {},
   "outputs": [],
   "source": [
    "def result(palavra_secreta, hang,win):\n",
    "    if win:\n",
    "        print('************WINNER!**************')\n",
    "        print(palavra_secreta)\n",
    "    elif hang:\n",
    "        print('**********YOU LOSE!************')\n",
    "        print(palavra_secreta)"
   ]
  },
  {
   "cell_type": "code",
   "execution_count": 42,
   "metadata": {},
   "outputs": [],
   "source": [
    "def jogar():\n",
    "    \n",
    "    bem_vindo()\n",
    "    \n",
    "    #inicializar variaveis\n",
    "    hang = False\n",
    "    win = False\n",
    "    inputs = []\n",
    "    forca = 0\n",
    "\n",
    "    download_imagens()\n",
    "\n",
    "    palavra_secreta = palavra()\n",
    "\n",
    "    secret = anonimizar(palavra_secreta)\n",
    "    \n",
    "    while(not hang and not win):\n",
    "        if forca >= 10:\n",
    "            hang = True\n",
    "            result(palavra_secreta, hang,win)\n",
    "            continue\n",
    "        \n",
    "        if secret == palavra_secreta:\n",
    "            win = True\n",
    "            result(palavra_secreta, hang,win)\n",
    "            continue\n",
    "        \n",
    "        print('******ADIVINHE A PALAVRA********')\n",
    "        print(secret)\n",
    "        print('********************************')\n",
    "\n",
    "        if not inputs:\n",
    "            print('Letras jogadas:',inputs)\n",
    "        else:\n",
    "            print('Letras jogadas:',set(inputs))\n",
    "        \n",
    "        print('Tentativas restantes:',10 - forca)\n",
    "\n",
    "        display(Image(filename='./img/hang_{}.png'.format(forca)))\n",
    "       \n",
    "        player_try = capturar_try()\n",
    "\n",
    "        if len(player_try) > 1 or player_try.isdigit():\n",
    "            print('Favor informar uma Letra')\n",
    "            time.sleep(0.9)\n",
    "            clear_output(wait=True)\n",
    "            continue\n",
    "\n",
    "        if player_try in inputs:\n",
    "            print('Letra já foi jogada')\n",
    "            time.sleep(0.9)\n",
    "            clear_output(wait=True)\n",
    "            continue\n",
    "        else:\n",
    "            inputs.append(player_try)\n",
    "            letra_in = posicao_letra(player_try,palavra_secreta)\n",
    "            if not letra_in:\n",
    "                forca = forca + 1\n",
    "            else:\n",
    "                secret = desanonimizar_letra(player_try,letra_in,secret)\n",
    "        clear_output(wait=True)\n",
    "    print('***********Fim do Jogo***********')"
   ]
  },
  {
   "cell_type": "code",
   "execution_count": 43,
   "metadata": {},
   "outputs": [
    {
     "name": "stdout",
     "output_type": "stream",
     "text": [
      "************WINNER!**************\n",
      "elegiam\n",
      "***********Fim do Jogo***********\n"
     ]
    }
   ],
   "source": [
    "jogar()"
   ]
  }
 ],
 "metadata": {
  "interpreter": {
   "hash": "916dbcbb3f70747c44a77c7bcd40155683ae19c65e1c03b4aa3499c5328201f1"
  },
  "kernelspec": {
   "display_name": "Python 3.8.10 64-bit",
   "language": "python",
   "name": "python3"
  },
  "language_info": {
   "codemirror_mode": {
    "name": "ipython",
    "version": 3
   },
   "file_extension": ".py",
   "mimetype": "text/x-python",
   "name": "python",
   "nbconvert_exporter": "python",
   "pygments_lexer": "ipython3",
   "version": "3.8.10"
  },
  "orig_nbformat": 4
 },
 "nbformat": 4,
 "nbformat_minor": 2
}
